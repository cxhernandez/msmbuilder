{
 "metadata": {
  "name": "",
  "signature": "sha256:04adeb3d23d347400adbf580dd42301c50ad15f0f970f29a7c9660e2a944d5e9"
 },
 "nbformat": 3,
 "nbformat_minor": 0,
 "worksheets": [
  {
   "cells": [
    {
     "cell_type": "code",
     "collapsed": false,
     "input": [
      "import numpy as np\n",
      "from matplotlib import pyplot as plt\n",
      "from mixtape.example_datasets import QuadWell, quadwell_eigs\n",
      "from mixtape.cluster import NDGrid\n",
      "from mixtape.msm import MarkovStateModel\n",
      "from sklearn.pipeline import Pipeline"
     ],
     "language": "python",
     "metadata": {},
     "outputs": []
    },
    {
     "cell_type": "code",
     "collapsed": false,
     "input": [
      "dataset = QuadWell(random_state=0).get()\n",
      "true_eigenvalues = quadwell_eigs(200)[0]\n",
      "true_timescales = -1 / np.log(true_eigenvalues[1:])\n",
      "print(QuadWell.description())"
     ],
     "language": "python",
     "metadata": {},
     "outputs": []
    },
    {
     "cell_type": "code",
     "collapsed": false,
     "input": [
      "def msm_timescales(trajectories, n_states):\n",
      "    pipeline = Pipeline([\n",
      "        ('grid', NDGrid(min=-1.2, max=1.2)),\n",
      "        ('msm', MarkovStateModel(n_timescales=4, reversible_type='transpose', verbose=False))\n",
      "    ])\n",
      "    pipeline.set_params(grid__n_bins_per_feature=n_states)\n",
      "    pipeline.fit(trajectories)\n",
      "    return pipeline.named_steps['msm'].timescales_\n",
      "\n",
      "n_states = [5, 10, 50, 100]\n",
      "ts = np.array([msm_timescales(dataset.trajectories, n) for n in n_states])"
     ],
     "language": "python",
     "metadata": {},
     "outputs": []
    },
    {
     "cell_type": "code",
     "collapsed": false,
     "input": [
      "for i, c in enumerate(['b', 'r', 'm']):\n",
      "    plt.plot(n_states, ts[:, i], c=c, marker='x')\n",
      "    plt.axhline(true_timescales[i], ls='--', c=c, lw=2)\n",
      "\n",
      "plt.xlabel('Number of states')\n",
      "plt.ylabel('Timescale (steps)')\n",
      "plt.show()"
     ],
     "language": "python",
     "metadata": {},
     "outputs": []
    },
    {
     "cell_type": "code",
     "collapsed": false,
     "input": [],
     "language": "python",
     "metadata": {},
     "outputs": []
    }
   ],
   "metadata": {}
  }
 ]
}